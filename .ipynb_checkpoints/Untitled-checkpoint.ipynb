{
 "cells": [
  {
   "cell_type": "code",
   "execution_count": 3,
   "id": "d8e9e407",
   "metadata": {},
   "outputs": [],
   "source": [
    "import psycopg2\n",
    "from psycopg2 import Error\n",
    "\n",
    "\n",
    "# Connect to an existing database\n",
    "connection = psycopg2.connect(user=\"postgres\",\n",
    "                              password=\"STpass@9\",\n",
    "                              host=\"localhost\",\n",
    "                              port=\"5432\",\n",
    "                              database=\"phone_data\")\n",
    "\n",
    "# Create a cursor to perform database operations\n",
    "cursor = connection.cursor()\n",
    "\n",
    "create_table_query = \"\"\"INSERT INTO search_phone \n",
    "                (id, name, price, location, \n",
    "                image, link, time, date, condition_id, \n",
    "                region_id, vendor_id ) VALUES(%s,%s,%s,%s,%s,%s,%s,%s,%s,%s, %s )\"\"\", 1, \"Iphone 12\", 2577, \"Obuasi\", 'Greater Accra', 'link', 'image', \"14:30\", 1, 1,   ) \n",
    "\n",
    "    # Execute a command: this creates a new table\n",
    "cursor.execute(create_table_query)\n",
    "connection.commit()\n",
    "cursor.close()\n",
    "connection.close()"
   ]
  },
  {
   "cell_type": "code",
   "execution_count": 1,
   "id": "64f526df",
   "metadata": {},
   "outputs": [
    {
     "ename": "SyntaxError",
     "evalue": "syntax error at or near \"1\"\nLINE 1: ... 'Obuasi', 'image', 'link', '14:30:00','2021-10-22' 1, 1, 1)\n                                                               ^\n",
     "output_type": "error",
     "traceback": [
      "\u001b[1;31m---------------------------------------------------------------------------\u001b[0m",
      "\u001b[1;31mSyntaxError\u001b[0m                               Traceback (most recent call last)",
      "\u001b[1;32m<ipython-input-1-3017f3ee64c1>\u001b[0m in \u001b[0;36m<module>\u001b[1;34m\u001b[0m\n\u001b[0;32m     10\u001b[0m     \u001b[0mcur\u001b[0m \u001b[1;33m=\u001b[0m \u001b[0mconnection\u001b[0m\u001b[1;33m.\u001b[0m\u001b[0mcursor\u001b[0m\u001b[1;33m(\u001b[0m\u001b[1;33m)\u001b[0m\u001b[1;33m\u001b[0m\u001b[1;33m\u001b[0m\u001b[0m\n\u001b[0;32m     11\u001b[0m \u001b[1;33m\u001b[0m\u001b[0m\n\u001b[1;32m---> 12\u001b[1;33m     \u001b[0mcur\u001b[0m\u001b[1;33m.\u001b[0m\u001b[0mexecute\u001b[0m\u001b[1;33m(\u001b[0m\u001b[1;34m\"INSERT INTO search_phone(name, price, location, image, link, time, date, condition_id, region_id, vendor_id)VALUES( 'Iphone 12', 2577, 'Obuasi', 'image', 'link', '14:30:00','2021-10-22' 1, 1, 1)\"\u001b[0m\u001b[1;33m)\u001b[0m\u001b[1;33m\u001b[0m\u001b[1;33m\u001b[0m\u001b[0m\n\u001b[0m",
      "\u001b[1;31mSyntaxError\u001b[0m: syntax error at or near \"1\"\nLINE 1: ... 'Obuasi', 'image', 'link', '14:30:00','2021-10-22' 1, 1, 1)\n                                                               ^\n"
     ]
    }
   ],
   "source": [
    "import psycopg2\n",
    "connection = psycopg2.connect(user=\"postgres\",\n",
    "                              password=\"STpass@9\",\n",
    "                              host=\"localhost\",\n",
    "                              port=\"5432\",\n",
    "                              database=\"phone\")\n",
    "\n",
    "with connection:\n",
    "\n",
    "    cur = connection.cursor()\n",
    "\n",
    "    cur.execute(\"INSERT INTO search_phone(name, price, location, image, link, time, date, condition_id, region_id, vendor_id)VALUES( 'Iphone 12', 2577, 'Obuasi', 'image', 'link', '14:30:00','2021-10-22', 1, 1, 1)\")"
   ]
  },
  {
   "cell_type": "code",
   "execution_count": 33,
   "id": "731f92fd",
   "metadata": {},
   "outputs": [],
   "source": [
    "name = 'Daniel'\n",
    "price = 100000\n",
    "location = 'Obuasi'\n",
    "region_id = 1\n",
    "image = 'image'\n",
    "link = 'link'\n",
    "time = '14:00:05'\n",
    "date = '2021-07-07'\n",
    "condition_id = 1\n",
    "vendor_id = 1"
   ]
  },
  {
   "cell_type": "code",
   "execution_count": 25,
   "id": "fdc83bf9",
   "metadata": {},
   "outputs": [],
   "source": [
    "def insert_data(name, price, location, image, link, time, date, condition_id, region_id, vendor_id, cur):\n",
    "    quer = \"INSERT INTO search_phone(id, name, price, location, image, link, time, date, condition_id, region_id, vendor_id)\"\n",
    "    val = \"VALUES({}, {}, {}, {}, {}, '{}', '{}', {}, {}, {})\".format(name, price, location, image, link, time, date, condition_id, region_id, vendor_id)\n",
    "    cur.execute(quer)\n",
    "    return (quer + val)"
   ]
  },
  {
   "cell_type": "code",
   "execution_count": 26,
   "id": "4487d021",
   "metadata": {},
   "outputs": [
    {
     "data": {
      "text/plain": [
       "\"INSERT INTO search_phone(id, name, price, location, image, link, time, date, condition_id, region_id, vendor_id)VALUES(Daniel, 100000, Obuasi, image, link, '14:00:05', '2021-07-07', 1, 1, 1)\""
      ]
     },
     "execution_count": 26,
     "metadata": {},
     "output_type": "execute_result"
    }
   ],
   "source": [
    "insert_data (name, price, location, image, link, time, date, condition_id, region_id, vendor_id)"
   ]
  },
  {
   "cell_type": "code",
   "execution_count": null,
   "id": "cc169a84",
   "metadata": {},
   "outputs": [],
   "source": [
    "insert_data(name, price, location, image, link, time, date, condition_id, region_id, vendor_id)"
   ]
  },
  {
   "cell_type": "code",
   "execution_count": 15,
   "id": "1c828993",
   "metadata": {},
   "outputs": [
    {
     "name": "stdout",
     "output_type": "stream",
     "text": [
      "SELECT id FROM search_region where region=1\n"
     ]
    }
   ],
   "source": [
    "query = \"SELECT id FROM search_region where region={}\".format(region)\n",
    "print(query)"
   ]
  },
  {
   "cell_type": "code",
   "execution_count": null,
   "id": "e623d590",
   "metadata": {},
   "outputs": [],
   "source": [
    "val = \"VALUES(\" +name+, 2577, 'Obuasi', 'image', 'link', '14:30:00', \"+ str(condition)+ ', '+ str(region)+', ' + str(vendor) + ')'\n",
    "    "
   ]
  },
  {
   "cell_type": "code",
   "execution_count": 36,
   "id": "308b50dd",
   "metadata": {},
   "outputs": [],
   "source": [
    "# This function creates the connection to the database\n",
    "def create_connection():\n",
    "    import psycopg2\n",
    "    connection = psycopg2.connect(user=\"postgres\",\n",
    "                              password=\"STpass@9\",\n",
    "                              host=\"localhost\",\n",
    "                              port=\"5432\",\n",
    "                              database=\"phone\")\n",
    "    \n",
    "    return connection.cursor()\n",
    "    \n",
    "# ths functions gets the id for region    \n",
    "def get_region_id(region, cur):\n",
    "    query = \"SELECT id FROM search_region where region='{}'\".format(region)\n",
    "    cur.execute(query)\n",
    "    key = cur.fetchone()[0]\n",
    "    return key\n",
    "    \n",
    "# ths functions gets the id for condition  \n",
    "def get_condition_id(condition, cur):\n",
    "    query = \"SELECT id FROM search_condition where condition='{}'\".format(condition) \n",
    "    cur.execute(query)\n",
    "    key = cur.fetchone()[0]\n",
    "    return key\n",
    "\n",
    "# ths functions gets the id for site  \n",
    "def get_vendor_id(vendor, cur):\n",
    "    query = \"SELECT id FROM search_vendor where vendor='{}'\".format(vendor)\n",
    "    cur.execute(query)\n",
    "    key = cur.fetchone()[0]\n",
    "    return key\n",
    "\n",
    "# this function inserts the data into the database\n",
    "def insert_data(name, price, location,image, link, time, date, condition_id, region_id, vendor_id, cur):\n",
    "    quer = \"INSERT INTO search_phone(id, name, price, location, image, link, time, date, condition_id, region_id, vendor_id)\"\n",
    "    val = \"VALUES('{}', {}, '{}', '{}', '{}', '{}', '{}', {}, {}, {})\".format(name, price, location, image, link, time, date, condition_id, region_id, vendor_id)\n",
    "    query = quer+val\n",
    "    cur.execute(query)\n",
    "    return 'Data inserted'"
   ]
  },
  {
   "cell_type": "code",
   "execution_count": 38,
   "id": "a0ffbd60",
   "metadata": {},
   "outputs": [
    {
     "ename": "SyntaxError",
     "evalue": "INSERT has more target columns than expressions\nLINE 1: ...image, link, time, date, condition_id, region_id, vendor_id)...\n                                                             ^\n",
     "output_type": "error",
     "traceback": [
      "\u001b[1;31m---------------------------------------------------------------------------\u001b[0m",
      "\u001b[1;31mSyntaxError\u001b[0m                               Traceback (most recent call last)",
      "\u001b[1;32m<ipython-input-38-949bf13d72d0>\u001b[0m in \u001b[0;36m<module>\u001b[1;34m\u001b[0m\n\u001b[0;32m      7\u001b[0m     \u001b[0mcondition_id\u001b[0m \u001b[1;33m=\u001b[0m \u001b[0mget_condition_id\u001b[0m\u001b[1;33m(\u001b[0m\u001b[0mcondition\u001b[0m\u001b[1;33m,\u001b[0m \u001b[0mcur\u001b[0m\u001b[1;33m)\u001b[0m\u001b[1;33m\u001b[0m\u001b[1;33m\u001b[0m\u001b[0m\n\u001b[0;32m      8\u001b[0m     \u001b[0mvendor_id\u001b[0m \u001b[1;33m=\u001b[0m \u001b[0mget_vendor_id\u001b[0m\u001b[1;33m(\u001b[0m\u001b[0mvendor\u001b[0m\u001b[1;33m,\u001b[0m \u001b[0mcur\u001b[0m\u001b[1;33m)\u001b[0m\u001b[1;33m\u001b[0m\u001b[1;33m\u001b[0m\u001b[0m\n\u001b[1;32m----> 9\u001b[1;33m     \u001b[0minsert_data\u001b[0m\u001b[1;33m(\u001b[0m\u001b[0mname\u001b[0m\u001b[1;33m,\u001b[0m \u001b[0mprice\u001b[0m\u001b[1;33m,\u001b[0m \u001b[0mlocation\u001b[0m\u001b[1;33m,\u001b[0m \u001b[0mimage\u001b[0m\u001b[1;33m,\u001b[0m \u001b[0mlink\u001b[0m\u001b[1;33m,\u001b[0m \u001b[0mtime\u001b[0m\u001b[1;33m,\u001b[0m \u001b[0mdate\u001b[0m\u001b[1;33m,\u001b[0m \u001b[0mcondition_id\u001b[0m\u001b[1;33m,\u001b[0m \u001b[0mregion_id\u001b[0m\u001b[1;33m,\u001b[0m \u001b[0mvendor_id\u001b[0m\u001b[1;33m,\u001b[0m \u001b[0mcur\u001b[0m\u001b[1;33m)\u001b[0m\u001b[1;33m\u001b[0m\u001b[1;33m\u001b[0m\u001b[0m\n\u001b[0m\u001b[0;32m     10\u001b[0m \u001b[1;33m\u001b[0m\u001b[0m\n\u001b[0;32m     11\u001b[0m \u001b[0mprint\u001b[0m\u001b[1;33m(\u001b[0m\u001b[0mregion\u001b[0m\u001b[1;33m)\u001b[0m\u001b[1;33m\u001b[0m\u001b[1;33m\u001b[0m\u001b[0m\n",
      "\u001b[1;32m<ipython-input-36-865ecbca890f>\u001b[0m in \u001b[0;36minsert_data\u001b[1;34m(name, price, location, image, link, time, date, condition, region, vendor, cur)\u001b[0m\n\u001b[0;32m     36\u001b[0m     \u001b[0mval\u001b[0m \u001b[1;33m=\u001b[0m \u001b[1;34m\"VALUES('{}', {}, '{}', '{}', '{}', '{}', '{}', {}, {}, {})\"\u001b[0m\u001b[1;33m.\u001b[0m\u001b[0mformat\u001b[0m\u001b[1;33m(\u001b[0m\u001b[0mname\u001b[0m\u001b[1;33m,\u001b[0m \u001b[0mprice\u001b[0m\u001b[1;33m,\u001b[0m \u001b[0mlocation\u001b[0m\u001b[1;33m,\u001b[0m \u001b[0mimage\u001b[0m\u001b[1;33m,\u001b[0m \u001b[0mlink\u001b[0m\u001b[1;33m,\u001b[0m \u001b[0mtime\u001b[0m\u001b[1;33m,\u001b[0m \u001b[0mdate\u001b[0m\u001b[1;33m,\u001b[0m \u001b[0mcondition_id\u001b[0m\u001b[1;33m,\u001b[0m \u001b[0mregion_id\u001b[0m\u001b[1;33m,\u001b[0m \u001b[0mvendor_id\u001b[0m\u001b[1;33m)\u001b[0m\u001b[1;33m\u001b[0m\u001b[1;33m\u001b[0m\u001b[0m\n\u001b[0;32m     37\u001b[0m     \u001b[0mquery\u001b[0m \u001b[1;33m=\u001b[0m \u001b[0mquer\u001b[0m\u001b[1;33m+\u001b[0m\u001b[0mval\u001b[0m\u001b[1;33m\u001b[0m\u001b[1;33m\u001b[0m\u001b[0m\n\u001b[1;32m---> 38\u001b[1;33m     \u001b[0mcur\u001b[0m\u001b[1;33m.\u001b[0m\u001b[0mexecute\u001b[0m\u001b[1;33m(\u001b[0m\u001b[0mquery\u001b[0m\u001b[1;33m)\u001b[0m\u001b[1;33m\u001b[0m\u001b[1;33m\u001b[0m\u001b[0m\n\u001b[0m\u001b[0;32m     39\u001b[0m     \u001b[1;32mreturn\u001b[0m \u001b[1;34m'Data inserted'\u001b[0m\u001b[1;33m\u001b[0m\u001b[1;33m\u001b[0m\u001b[0m\n",
      "\u001b[1;31mSyntaxError\u001b[0m: INSERT has more target columns than expressions\nLINE 1: ...image, link, time, date, condition_id, region_id, vendor_id)...\n                                                             ^\n"
     ]
    }
   ],
   "source": [
    "region = 'Bono'\n",
    "condition = 'Used'\n",
    "vendor = 'Jiji'\n",
    "cur = create_connection()\n",
    "with connection:\n",
    "    region_id = get_region_id(region, cur)\n",
    "    condition_id = get_condition_id(condition, cur)\n",
    "    vendor_id = get_vendor_id(vendor, cur)\n",
    "    insert_data(name, price, location, image, link, time, date, condition_id, region_id, vendor_id, cur)\n",
    "    \n",
    "print(region)\n",
    "print(condition)\n",
    "print(vendor)"
   ]
  },
  {
   "cell_type": "code",
   "execution_count": 102,
   "id": "5249029c",
   "metadata": {},
   "outputs": [
    {
     "name": "stdout",
     "output_type": "stream",
     "text": [
      "1\n",
      "1\n",
      "1\n"
     ]
    }
   ],
   "source": [
    "import psycopg2\n",
    "connection = psycopg2.connect(user=\"postgres\",\n",
    "                              password=\"STpass@9\",\n",
    "                              host=\"localhost\",\n",
    "                              port=\"5432\",\n",
    "                              database=\"phone_data\")\n",
    "\n",
    "with connection:\n",
    "\n",
    "    cur = connection.cursor()\n",
    "    \n",
    "    condition = \"'New'\"\n",
    "    query = \"SELECT id FROM search_condition where condition=\"+condition \n",
    "    cur.execute(query)\n",
    "    key = cur.fetchone()[0]\n",
    "    print(key)\n",
    "    \n",
    "    region = \"'Greater Accra'\"\n",
    "    query = \"SELECT id FROM search_region where region=\"+region \n",
    "    cur.execute(query)\n",
    "    key1 = cur.fetchone()[0]\n",
    "    print(key1)\n",
    "    \n",
    "    vendor = \"'Tonaton'\"\n",
    "    query = \"SELECT id FROM search_vendor where vendor=\"+vendor \n",
    "    cur.execute(query)\n",
    "    key2 = cur.fetchone()[0]\n",
    "    print(key2)\n",
    "    \n",
    "    quer = \"INSERT INTO search_phone(name, price, location, image, link, time, condition_id, region_id, vendor_id)\"\n",
    "    val = \"VALUES( 'Iphone 12', 2577, 'Obuasi', 'image', 'link', '14:30:00', \"+ str(key)+ ', '+ str(key1)+', ' + str(key2) + ')'\n",
    "    cur.execute(quer+ val)"
   ]
  },
  {
   "cell_type": "code",
   "execution_count": 131,
   "id": "8da2b72c",
   "metadata": {},
   "outputs": [
    {
     "name": "stdout",
     "output_type": "stream",
     "text": [
      "INSERT INTO search_phone(id, name, price, location, image, link, time, condition_id, region_id, vendor_id)VALUES( 1, 'Iphone 12', 2577, 'Obuasi', 'image', 'link', '14:30:00', 2, 10, 2)\n"
     ]
    }
   ],
   "source": [
    "with condition:\n",
    "    quer = \"INSERT INTO search_phone(id, name, price, location, image, link, time, condition_id, region_id, vendor_id)\"\n",
    "    val = \"VALUES( 1, 'Iphone 12', 2577, 'Obuasi', 'image', 'link', '14:30:00', \"+ str(condition)+ ', '+ str(region)+', ' + str(vendor) + ')'\n",
    "    (quer + val)"
   ]
  },
  {
   "cell_type": "code",
   "execution_count": null,
   "id": "1484d774",
   "metadata": {},
   "outputs": [],
   "source": []
  },
  {
   "cell_type": "code",
   "execution_count": 76,
   "id": "759770c2",
   "metadata": {},
   "outputs": [
    {
     "name": "stdout",
     "output_type": "stream",
     "text": [
      "SELECT id FROM search_condition where condition='New'\n"
     ]
    }
   ],
   "source": [
    "condition = \"'New'\"\n",
    "query = \"SELECT id FROM search_condition where condition=\"+condition \n",
    "print(query)"
   ]
  },
  {
   "cell_type": "code",
   "execution_count": 78,
   "id": "44d13440",
   "metadata": {},
   "outputs": [],
   "source": [
    "a = cur.fetchone()[0]"
   ]
  },
  {
   "cell_type": "code",
   "execution_count": 71,
   "id": "ddfc59b7",
   "metadata": {},
   "outputs": [
    {
     "data": {
      "text/plain": [
       "1"
      ]
     },
     "execution_count": 71,
     "metadata": {},
     "output_type": "execute_result"
    }
   ],
   "source": [
    "a"
   ]
  },
  {
   "cell_type": "code",
   "execution_count": null,
   "id": "5c2feafa",
   "metadata": {},
   "outputs": [],
   "source": [
    "INSERT INTO bar (description, foo_id) VALUES\n",
    "    ( 'testing',     (SELECT id from foo WHERE type='blue') ),\n",
    "    ( 'another row', (SELECT id from foo WHERE type='red' ) );"
   ]
  },
  {
   "cell_type": "code",
   "execution_count": 25,
   "id": "4367ca1e",
   "metadata": {},
   "outputs": [
    {
     "ename": "NameError",
     "evalue": "name 'cursor' is not defined",
     "output_type": "error",
     "traceback": [
      "\u001b[1;31m---------------------------------------------------------------------------\u001b[0m",
      "\u001b[1;31mNameError\u001b[0m                                 Traceback (most recent call last)",
      "\u001b[1;32m<ipython-input-25-e2cb019d46b6>\u001b[0m in \u001b[0;36m<module>\u001b[1;34m\u001b[0m\n\u001b[0;32m      1\u001b[0m \u001b[1;31m# Executing a SQL query\u001b[0m\u001b[1;33m\u001b[0m\u001b[1;33m\u001b[0m\u001b[1;33m\u001b[0m\u001b[0m\n\u001b[1;32m----> 2\u001b[1;33m cursor.execute(\"\"\"INSERT INTO search_phone \n\u001b[0m\u001b[0;32m      3\u001b[0m                 (id, name, price, location, \n\u001b[0;32m      4\u001b[0m                 \u001b[0mimage\u001b[0m\u001b[1;33m,\u001b[0m \u001b[0mlink\u001b[0m\u001b[1;33m,\u001b[0m \u001b[0mtime\u001b[0m\u001b[1;33m,\u001b[0m \u001b[0mcondition_id\u001b[0m\u001b[1;33m,\u001b[0m\u001b[1;33m\u001b[0m\u001b[1;33m\u001b[0m\u001b[0m\n\u001b[0;32m      5\u001b[0m                 region_id, vendor_id ) VALUES(%s,%s,%s,%s,%s,%s,%s,%s,%s,%s )\"\"\", 1, \"Iphone 12\", 2577, \"Obuasi\", 'Greater Accra', 'link', 'image', \"14:30\", 1, 1,   ) \n",
      "\u001b[1;31mNameError\u001b[0m: name 'cursor' is not defined"
     ]
    }
   ],
   "source": [
    "# Executing a SQL query\n",
    "cursor.execute(\"\"\"INSERT INTO search_phone \n",
    "                (id, name, price, location, \n",
    "                image, link, time, condition_id, \n",
    "                region_id, vendor_id ) VALUES(%s,%s,%s,%s,%s,%s,%s,%s,%s,%s )\"\"\", 1, \"Iphone 12\", 2577, \"Obuasi\", 'Greater Accra', 'link', 'image', \"14:30\", 1, 1,   ) \n",
    "\n",
    "# Fetch result"
   ]
  },
  {
   "cell_type": "code",
   "execution_count": 29,
   "id": "14a6f1ba",
   "metadata": {},
   "outputs": [],
   "source": [
    "import sqlalchemy as db\n",
    "from sqlalchemy import create_engine\n",
    "engine = create_engine('postgresql+psycopg2://postgres:STpass@9@localhost/phone_data')\n",
    "connection = engine.connect()\n",
    "metadata = db.MetaData()"
   ]
  },
  {
   "cell_type": "code",
   "execution_count": 60,
   "id": "d60ec121",
   "metadata": {},
   "outputs": [],
   "source": [
    "region = db.Table('search_region', metadata, autoload=True, autoload_with=engine)"
   ]
  },
  {
   "cell_type": "code",
   "execution_count": 61,
   "id": "40bfbd28",
   "metadata": {},
   "outputs": [],
   "source": [
    "reg = \"Greater Accra\""
   ]
  },
  {
   "cell_type": "code",
   "execution_count": 62,
   "id": "5b48b9e8",
   "metadata": {},
   "outputs": [],
   "source": [
    "query = db.select([region]).where(region.columns.region == reg)"
   ]
  },
  {
   "cell_type": "code",
   "execution_count": null,
   "id": "fbe5ebd7",
   "metadata": {},
   "outputs": [],
   "source": [
    "db.select([census]).where(census.columns.sex == 'F')"
   ]
  },
  {
   "cell_type": "code",
   "execution_count": 63,
   "id": "9bd40795",
   "metadata": {},
   "outputs": [],
   "source": [
    "\n",
    "ResultProxy = connection.execute(query)"
   ]
  },
  {
   "cell_type": "code",
   "execution_count": 64,
   "id": "b88ce7b1",
   "metadata": {},
   "outputs": [],
   "source": [
    "ResultSet = ResultProxy.fetchall()"
   ]
  },
  {
   "cell_type": "code",
   "execution_count": 65,
   "id": "9ab12057",
   "metadata": {},
   "outputs": [
    {
     "data": {
      "text/plain": [
       "[(1, 'Greater Accra')]"
      ]
     },
     "execution_count": 65,
     "metadata": {},
     "output_type": "execute_result"
    }
   ],
   "source": [
    "\n",
    "ResultSet"
   ]
  },
  {
   "cell_type": "code",
   "execution_count": null,
   "id": "d11bc74e",
   "metadata": {},
   "outputs": [],
   "source": []
  }
 ],
 "metadata": {
  "kernelspec": {
   "display_name": "Python 3",
   "language": "python",
   "name": "python3"
  },
  "language_info": {
   "codemirror_mode": {
    "name": "ipython",
    "version": 3
   },
   "file_extension": ".py",
   "mimetype": "text/x-python",
   "name": "python",
   "nbconvert_exporter": "python",
   "pygments_lexer": "ipython3",
   "version": "3.8.8"
  }
 },
 "nbformat": 4,
 "nbformat_minor": 5
}
