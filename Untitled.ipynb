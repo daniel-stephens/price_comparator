{
 "cells": [
  {
   "cell_type": "code",
   "execution_count": 3,
   "id": "d8e9e407",
   "metadata": {},
   "outputs": [],
   "source": [
    "import psycopg2\n",
    "from psycopg2 import Error\n",
    "\n",
    "\n",
    "# Connect to an existing database\n",
    "connection = psycopg2.connect(user=\"postgres\",\n",
    "                              password=\"STpass@9\",\n",
    "                              host=\"localhost\",\n",
    "                              port=\"5432\",\n",
    "                              database=\"phone_data\")\n",
    "\n",
    "# Create a cursor to perform database operations\n",
    "cursor = connection.cursor()\n",
    "\n",
    "create_table_query = \"\"\"INSERT INTO search_phone \n",
    "                (id, name, price, location, \n",
    "                image, link, time, date, condition_id, \n",
    "                region_id, vendor_id ) VALUES(%s,%s,%s,%s,%s,%s,%s,%s,%s,%s, %s )\"\"\", 1, \"Iphone 12\", 2577, \"Obuasi\", 'Greater Accra', 'link', 'image', \"14:30\", 1, 1,   ) \n",
    "\n",
    "    # Execute a command: this creates a new table\n",
    "cursor.execute(create_table_query)\n",
    "connection.commit()\n",
    "cursor.close()\n",
    "connection.close()"
   ]
  },
  {
   "cell_type": "code",
   "execution_count": 1,
   "id": "64f526df",
   "metadata": {},
   "outputs": [
    {
     "ename": "SyntaxError",
     "evalue": "syntax error at or near \"1\"\nLINE 1: ... 'Obuasi', 'image', 'link', '14:30:00','2021-10-22' 1, 1, 1)\n                                                               ^\n",
     "output_type": "error",
     "traceback": [
      "\u001b[1;31m---------------------------------------------------------------------------\u001b[0m",
      "\u001b[1;31mSyntaxError\u001b[0m                               Traceback (most recent call last)",
      "\u001b[1;32m<ipython-input-1-3017f3ee64c1>\u001b[0m in \u001b[0;36m<module>\u001b[1;34m\u001b[0m\n\u001b[0;32m     10\u001b[0m     \u001b[0mcur\u001b[0m \u001b[1;33m=\u001b[0m \u001b[0mconnection\u001b[0m\u001b[1;33m.\u001b[0m\u001b[0mcursor\u001b[0m\u001b[1;33m(\u001b[0m\u001b[1;33m)\u001b[0m\u001b[1;33m\u001b[0m\u001b[1;33m\u001b[0m\u001b[0m\n\u001b[0;32m     11\u001b[0m \u001b[1;33m\u001b[0m\u001b[0m\n\u001b[1;32m---> 12\u001b[1;33m     \u001b[0mcur\u001b[0m\u001b[1;33m.\u001b[0m\u001b[0mexecute\u001b[0m\u001b[1;33m(\u001b[0m\u001b[1;34m\"INSERT INTO search_phone(name, price, location, image, link, time, date, condition_id, region_id, vendor_id)VALUES( 'Iphone 12', 2577, 'Obuasi', 'image', 'link', '14:30:00','2021-10-22' 1, 1, 1)\"\u001b[0m\u001b[1;33m)\u001b[0m\u001b[1;33m\u001b[0m\u001b[1;33m\u001b[0m\u001b[0m\n\u001b[0m",
      "\u001b[1;31mSyntaxError\u001b[0m: syntax error at or near \"1\"\nLINE 1: ... 'Obuasi', 'image', 'link', '14:30:00','2021-10-22' 1, 1, 1)\n                                                               ^\n"
     ]
    }
   ],
   "source": [
    "import psycopg2\n",
    "connection = psycopg2.connect(user=\"postgres\",\n",
    "                              password=\"STpass@9\",\n",
    "                              host=\"localhost\",\n",
    "                              port=\"5432\",\n",
    "                              database=\"phone\")\n",
    "\n",
    "with connection:\n",
    "\n",
    "    cur = connection.cursor()\n",
    "\n",
    "    cur.execute(\"INSERT INTO search_phone(name, price, location, image, link, time, date, condition_id, region_id, vendor_id)VALUES( 'Iphone 12', 2577, 'Obuasi', 'image', 'link', '14:30:00','2021-10-22', 1, 1, 1)\")"
   ]
  },
  {
   "cell_type": "code",
   "execution_count": 33,
   "id": "731f92fd",
   "metadata": {},
   "outputs": [],
   "source": [
    "name = 'Daniel'\n",
    "price = 100000\n",
    "location = 'Obuasi'\n",
    "region_id = 1\n",
    "image = 'image'\n",
    "link = 'link'\n",
    "time = '14:00:05'\n",
    "date = '2021-07-07'\n",
    "condition_id = 1\n",
    "vendor_id = 1"
   ]
  },
  {
   "cell_type": "code",
   "execution_count": 25,
   "id": "fdc83bf9",
   "metadata": {},
   "outputs": [],
   "source": [
    "def insert_data(name, price, location, image, link, time, date, condition_id, region_id, vendor_id, cur):\n",
    "    quer = \"INSERT INTO search_phone(id, name, price, location, image, link, time, date, condition_id, region_id, vendor_id)\"\n",
    "    val = \"VALUES({}, {}, {}, {}, {}, '{}', '{}', {}, {}, {})\".format(name, price, location, image, link, time, date, condition_id, region_id, vendor_id)\n",
    "    cur.execute(quer)\n",
    "    return (quer + val)"
   ]
  },
  {
   "cell_type": "code",
   "execution_count": 26,
   "id": "4487d021",
   "metadata": {},
   "outputs": [
    {
     "data": {
      "text/plain": [
       "\"INSERT INTO search_phone(id, name, price, location, image, link, time, date, condition_id, region_id, vendor_id)VALUES(Daniel, 100000, Obuasi, image, link, '14:00:05', '2021-07-07', 1, 1, 1)\""
      ]
     },
     "execution_count": 26,
     "metadata": {},
     "output_type": "execute_result"
    }
   ],
   "source": [
    "insert_data (name, price, location, image, link, time, date, condition_id, region_id, vendor_id)"
   ]
  },
  {
   "cell_type": "code",
   "execution_count": null,
   "id": "cc169a84",
   "metadata": {},
   "outputs": [],
   "source": [
    "insert_data(name, price, location, image, link, time, date, condition_id, region_id, vendor_id)"
   ]
  },
  {
   "cell_type": "code",
   "execution_count": 15,
   "id": "1c828993",
   "metadata": {},
   "outputs": [
    {
     "name": "stdout",
     "output_type": "stream",
     "text": [
      "SELECT id FROM search_region where region=1\n"
     ]
    }
   ],
   "source": [
    "query = \"SELECT id FROM search_region where region={}\".format(region)\n",
    "print(query)"
   ]
  },
  {
   "cell_type": "code",
   "execution_count": null,
   "id": "e623d590",
   "metadata": {},
   "outputs": [],
   "source": [
    "val = \"VALUES(\" +name+, 2577, 'Obuasi', 'image', 'link', '14:30:00', \"+ str(condition)+ ', '+ str(region)+', ' + str(vendor) + ')'\n",
    "    "
   ]
  },
  {
   "cell_type": "code",
   "execution_count": 155,
   "id": "308b50dd",
   "metadata": {},
   "outputs": [],
   "source": [
    "# This function creates the connection to the database\n",
    "def create_connection():\n",
    "    import psycopg2\n",
    "    connection = psycopg2.connect(user=\"postgres\",\n",
    "                              password=\"STpass@9\",\n",
    "                              host=\"localhost\",\n",
    "                              port=\"5432\",\n",
    "                              database=\"phone\")\n",
    "    cur =connection.cursor()\n",
    "    \n",
    "    return connection, cur\n",
    "    \n",
    "# ths functions gets the id for region    \n",
    "def get_region_id(region, cur):\n",
    "    query = \"SELECT id FROM search_region where region='{}'\".format(region)\n",
    "    cur.execute(query)\n",
    "    key = cur.fetchone()[0]\n",
    "    return key\n",
    "    \n",
    "# ths functions gets the id for condition  \n",
    "def get_condition_id(condition, cur):\n",
    "    query = \"SELECT id FROM search_condition where condition='{}'\".format(condition) \n",
    "    cur.execute(query)\n",
    "    key = cur.fetchone()[0]\n",
    "    return key\n",
    "\n",
    "# ths functions gets the id for site  \n",
    "def get_vendor_id(vendor, cur):\n",
    "    query = \"SELECT id FROM search_vendor where vendor='{}'\".format(vendor)\n",
    "    cur.execute(query)\n",
    "    key = cur.fetchone()[0]\n",
    "    return key\n",
    "\n",
    "# this function inserts the data into the database\n",
    "def insert_data(name, price, location,image, link, time, date, condition_id, region_id, vendor_id, cur):\n",
    "    quer = \"INSERT INTO search_phone(name, price, location, image, link, time, date, condition_id, region_id, vendor_id)\"\n",
    "    val = \"VALUES('{}', {}, '{}', '{}', '{}', '{}', '{}', {}, {}, {})\".format(name, price, location, image, link, time, date, condition_id, region_id, vendor_id)\n",
    "    query = quer+val\n",
    "    cur.execute(query)\n",
    "    print('Data Inserted')\n",
    "    return\n",
    "\n",
    "# this function checks to see if \n",
    "def link_url (link, cur):\n",
    "    query = \"SELECT link FROM search_phone where link ='{}'\".format(link)\n",
    "    cur.execute(query)\n",
    "    key = cur.fetchone()\n",
    "    return key"
   ]
  },
  {
   "cell_type": "code",
   "execution_count": 161,
   "id": "a0ffbd60",
   "metadata": {},
   "outputs": [
    {
     "name": "stdout",
     "output_type": "stream",
     "text": [
      "Item Already exists\n"
     ]
    }
   ],
   "source": [
    "\n",
    "vendor = 'Tonaton'\n",
    "connection, cur = create_connection()\n",
    "with connection:\n",
    "    region_id = get_region_id(region, cur)\n",
    "    condition_id = get_condition_id(condition, cur)\n",
    "    vendor_id = get_vendor_id(vendor, cur)\n",
    "    if link_url(link, cur) == None:\n",
    "        insert_data(name, price, location, image, link, time, date, condition_id, region_id, vendor_id, cur)\n",
    "        print( \"{} has been inserted into the database \".format(name))\n",
    "    else:\n",
    "        print('Item Already exists')\n",
    "    \n"
   ]
  },
  {
   "cell_type": "code",
   "execution_count": 158,
   "id": "5249029c",
   "metadata": {},
   "outputs": [
    {
     "ename": "OperationalError",
     "evalue": "FATAL:  database \"phone_data\" does not exist\n",
     "output_type": "error",
     "traceback": [
      "\u001b[1;31m---------------------------------------------------------------------------\u001b[0m",
      "\u001b[1;31mOperationalError\u001b[0m                          Traceback (most recent call last)",
      "\u001b[1;32m<ipython-input-158-05ba4204ae97>\u001b[0m in \u001b[0;36m<module>\u001b[1;34m\u001b[0m\n\u001b[0;32m      1\u001b[0m \u001b[1;32mimport\u001b[0m \u001b[0mpsycopg2\u001b[0m\u001b[1;33m\u001b[0m\u001b[1;33m\u001b[0m\u001b[0m\n\u001b[1;32m----> 2\u001b[1;33m connection = psycopg2.connect(user=\"postgres\",\n\u001b[0m\u001b[0;32m      3\u001b[0m                               \u001b[0mpassword\u001b[0m\u001b[1;33m=\u001b[0m\u001b[1;34m\"STpass@9\"\u001b[0m\u001b[1;33m,\u001b[0m\u001b[1;33m\u001b[0m\u001b[1;33m\u001b[0m\u001b[0m\n\u001b[0;32m      4\u001b[0m                               \u001b[0mhost\u001b[0m\u001b[1;33m=\u001b[0m\u001b[1;34m\"localhost\"\u001b[0m\u001b[1;33m,\u001b[0m\u001b[1;33m\u001b[0m\u001b[1;33m\u001b[0m\u001b[0m\n\u001b[0;32m      5\u001b[0m                               \u001b[0mport\u001b[0m\u001b[1;33m=\u001b[0m\u001b[1;34m\"5432\"\u001b[0m\u001b[1;33m,\u001b[0m\u001b[1;33m\u001b[0m\u001b[1;33m\u001b[0m\u001b[0m\n",
      "\u001b[1;32m~\\anaconda3\\lib\\site-packages\\psycopg2\\__init__.py\u001b[0m in \u001b[0;36mconnect\u001b[1;34m(dsn, connection_factory, cursor_factory, **kwargs)\u001b[0m\n\u001b[0;32m    120\u001b[0m \u001b[1;33m\u001b[0m\u001b[0m\n\u001b[0;32m    121\u001b[0m     \u001b[0mdsn\u001b[0m \u001b[1;33m=\u001b[0m \u001b[0m_ext\u001b[0m\u001b[1;33m.\u001b[0m\u001b[0mmake_dsn\u001b[0m\u001b[1;33m(\u001b[0m\u001b[0mdsn\u001b[0m\u001b[1;33m,\u001b[0m \u001b[1;33m**\u001b[0m\u001b[0mkwargs\u001b[0m\u001b[1;33m)\u001b[0m\u001b[1;33m\u001b[0m\u001b[1;33m\u001b[0m\u001b[0m\n\u001b[1;32m--> 122\u001b[1;33m     \u001b[0mconn\u001b[0m \u001b[1;33m=\u001b[0m \u001b[0m_connect\u001b[0m\u001b[1;33m(\u001b[0m\u001b[0mdsn\u001b[0m\u001b[1;33m,\u001b[0m \u001b[0mconnection_factory\u001b[0m\u001b[1;33m=\u001b[0m\u001b[0mconnection_factory\u001b[0m\u001b[1;33m,\u001b[0m \u001b[1;33m**\u001b[0m\u001b[0mkwasync\u001b[0m\u001b[1;33m)\u001b[0m\u001b[1;33m\u001b[0m\u001b[1;33m\u001b[0m\u001b[0m\n\u001b[0m\u001b[0;32m    123\u001b[0m     \u001b[1;32mif\u001b[0m \u001b[0mcursor_factory\u001b[0m \u001b[1;32mis\u001b[0m \u001b[1;32mnot\u001b[0m \u001b[1;32mNone\u001b[0m\u001b[1;33m:\u001b[0m\u001b[1;33m\u001b[0m\u001b[1;33m\u001b[0m\u001b[0m\n\u001b[0;32m    124\u001b[0m         \u001b[0mconn\u001b[0m\u001b[1;33m.\u001b[0m\u001b[0mcursor_factory\u001b[0m \u001b[1;33m=\u001b[0m \u001b[0mcursor_factory\u001b[0m\u001b[1;33m\u001b[0m\u001b[1;33m\u001b[0m\u001b[0m\n",
      "\u001b[1;31mOperationalError\u001b[0m: FATAL:  database \"phone_data\" does not exist\n"
     ]
    }
   ],
   "source": [
    "import psycopg2\n",
    "connection = psycopg2.connect(user=\"postgres\",\n",
    "                              password=\"STpass@9\",\n",
    "                              host=\"localhost\",\n",
    "                              port=\"5432\",\n",
    "                              database=\"phone_data\")\n",
    "\n",
    "with connection:\n",
    "\n",
    "    cur = connection.cursor()\n",
    "    \n",
    "    condition = \"'New'\"\n",
    "    query = \"SELECT id FROM search_condition where condition=\"+condition \n",
    "    cur.execute(query)\n",
    "    key = cur.fetchone()[0]\n",
    "    print(key)\n",
    "    \n",
    "    region = \"'Greater Accra'\"\n",
    "    query = \"SELECT id FROM search_region where region=\"+region \n",
    "    cur.execute(query)\n",
    "    key1 = cur.fetchone()[0]\n",
    "    print(key1)\n",
    "    \n",
    "    vendor = \"'Tonaton'\"\n",
    "    query = \"SELECT id FROM search_vendor where vendor=\"+vendor \n",
    "    cur.execute(query)\n",
    "    key2 = cur.fetchone()[0]\n",
    "    print(key2)\n",
    "    \n",
    "    quer = \"INSERT INTO search_phone(name, price, location, image, link, time, condition_id, region_id, vendor_id)\"\n",
    "    val = \"VALUES( 'Iphone 12', 2577, 'Obuasi', 'image', 'link', '14:30:00', \"+ str(key)+ ', '+ str(key1)+', ' + str(key2) + ')'\n",
    "    cur.execute(quer+ val)"
   ]
  },
  {
   "cell_type": "code",
   "execution_count": 71,
   "id": "ddfc59b7",
   "metadata": {},
   "outputs": [
    {
     "data": {
      "text/plain": [
       "1"
      ]
     },
     "execution_count": 71,
     "metadata": {},
     "output_type": "execute_result"
    }
   ],
   "source": [
    "WHERE NOT EXISTS (\n",
    "    SELECT customer_name FROM customer_details WHERE customer_name = 'Veronica'\n",
    ")"
   ]
  },
  {
   "cell_type": "code",
   "execution_count": null,
   "id": "50228ffc",
   "metadata": {},
   "outputs": [],
   "source": [
    "SELECT link from search_phone WHERE link = 'link'"
   ]
  },
  {
   "cell_type": "code",
   "execution_count": 52,
   "id": "e0270f95",
   "metadata": {},
   "outputs": [],
   "source": [
    "link = 'link'"
   ]
  },
  {
   "cell_type": "code",
   "execution_count": 101,
   "id": "fbffdefd",
   "metadata": {},
   "outputs": [],
   "source": [
    "exception = \"IF NOT EXISTS (SELECT link FROM search_phone WHERE link = '{}')\".format(link)"
   ]
  },
  {
   "cell_type": "code",
   "execution_count": 102,
   "id": "3cd73a7b",
   "metadata": {},
   "outputs": [
    {
     "name": "stdout",
     "output_type": "stream",
     "text": [
      "IF NOT EXISTS (SELECT link FROM search_phone WHERE link = 'link')\n"
     ]
    }
   ],
   "source": [
    "print(exception)"
   ]
  },
  {
   "cell_type": "code",
   "execution_count": 103,
   "id": "d3dd522b",
   "metadata": {},
   "outputs": [],
   "source": [
    "quer = \" INSERT INTO search_phone ( name, price, location, image, link, time, date, condition_id, region_id, vendor_id)\"\n",
    "val = \" VALUES('{}', {}, '{}', '{}', '{}', '{}', '{}', {}, {}, {})\".format(name, price, location, image, link, time, date, condition_id, region_id, vendor_id)\n",
    "query = exception + quer+val"
   ]
  },
  {
   "cell_type": "code",
   "execution_count": 104,
   "id": "e6398ca7",
   "metadata": {},
   "outputs": [
    {
     "name": "stdout",
     "output_type": "stream",
     "text": [
      "IF NOT EXISTS (SELECT link FROM search_phone WHERE link = 'link') INSERT INTO search_phone ( name, price, location, image, link, time, date, condition_id, region_id, vendor_id) VALUES('Daniel', 100000, 'Obuasi', 'image', 'link', '14:00:05', '2021-07-07', 2, 3, 2)\n"
     ]
    }
   ],
   "source": [
    "print(query)"
   ]
  },
  {
   "cell_type": "code",
   "execution_count": 124,
   "id": "3c337247",
   "metadata": {},
   "outputs": [
    {
     "name": "stdout",
     "output_type": "stream",
     "text": [
      "3\n"
     ]
    }
   ],
   "source": [
    "with connection:\n",
    "    region_id = get_region_id(region, cur)\n",
    "    print(region_id)"
   ]
  },
  {
   "cell_type": "code",
   "execution_count": 146,
   "id": "40ef6ac9",
   "metadata": {},
   "outputs": [],
   "source": [
    "def link_url (link, cur):\n",
    "    query = \"SELECT link FROM search_phone where link ='{}'\".format(link)\n",
    "    cur.execute(query)\n",
    "    key = cur.fetchone()\n",
    "    return key"
   ]
  },
  {
   "cell_type": "code",
   "execution_count": 153,
   "id": "1c5e6e06",
   "metadata": {},
   "outputs": [
    {
     "name": "stdout",
     "output_type": "stream",
     "text": [
      "None\n"
     ]
    }
   ],
   "source": [
    "\n",
    "link = 'links'\n",
    "connection, cur = create_connection()\n",
    "with connection:\n",
    "    l = link_url(link, cur)\n",
    "    print(l)\n",
    "\n",
    "    "
   ]
  },
  {
   "cell_type": "code",
   "execution_count": 150,
   "id": "d97ef77f",
   "metadata": {},
   "outputs": [
    {
     "data": {
      "text/plain": [
       "('link',)"
      ]
     },
     "execution_count": 150,
     "metadata": {},
     "output_type": "execute_result"
    }
   ],
   "source": [
    "link_url(link, cur)"
   ]
  },
  {
   "cell_type": "code",
   "execution_count": null,
   "id": "95be5954",
   "metadata": {},
   "outputs": [],
   "source": [
    ", "
   ]
  }
 ],
 "metadata": {
  "kernelspec": {
   "display_name": "Python 3",
   "language": "python",
   "name": "python3"
  },
  "language_info": {
   "codemirror_mode": {
    "name": "ipython",
    "version": 3
   },
   "file_extension": ".py",
   "mimetype": "text/x-python",
   "name": "python",
   "nbconvert_exporter": "python",
   "pygments_lexer": "ipython3",
   "version": "3.8.8"
  }
 },
 "nbformat": 4,
 "nbformat_minor": 5
}
