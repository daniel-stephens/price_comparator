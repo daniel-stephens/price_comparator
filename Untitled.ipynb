{
 "cells": [
  {
   "cell_type": "code",
   "execution_count": 3,
   "id": "d8e9e407",
   "metadata": {},
   "outputs": [],
   "source": [
    "import psycopg2\n",
    "from psycopg2 import Error\n",
    "\n",
    "\n",
    "# Connect to an existing database\n",
    "connection = psycopg2.connect(user=\"postgres\",\n",
    "                              password=\"STpass@9\",\n",
    "                              host=\"localhost\",\n",
    "                              port=\"5432\",\n",
    "                              database=\"phone_data\")\n",
    "\n",
    "# Create a cursor to perform database operations\n",
    "cursor = connection.cursor()\n",
    "\n",
    "create_table_query = \"\"\"INSERT INTO search_phone \n",
    "                (id, name, price, location, \n",
    "                image, link, time, date, condition_id, \n",
    "                region_id, vendor_id ) VALUES(%s,%s,%s,%s,%s,%s,%s,%s,%s,%s, %s )\"\"\", 1, \"Iphone 12\", 2577, \"Obuasi\", 'Greater Accra', 'link', 'image', \"14:30\", 1, 1,   ) \n",
    "\n",
    "    # Execute a command: this creates a new table\n",
    "cursor.execute(create_table_query)\n",
    "connection.commit()\n",
    "cursor.close()\n",
    "connection.close()"
   ]
  },
  {
   "cell_type": "code",
   "execution_count": 1,
   "id": "64f526df",
   "metadata": {},
   "outputs": [
    {
     "ename": "SyntaxError",
     "evalue": "syntax error at or near \"1\"\nLINE 1: ... 'Obuasi', 'image', 'link', '14:30:00','2021-10-22' 1, 1, 1)\n                                                               ^\n",
     "output_type": "error",
     "traceback": [
      "\u001b[1;31m---------------------------------------------------------------------------\u001b[0m",
      "\u001b[1;31mSyntaxError\u001b[0m                               Traceback (most recent call last)",
      "\u001b[1;32m<ipython-input-1-3017f3ee64c1>\u001b[0m in \u001b[0;36m<module>\u001b[1;34m\u001b[0m\n\u001b[0;32m     10\u001b[0m     \u001b[0mcur\u001b[0m \u001b[1;33m=\u001b[0m \u001b[0mconnection\u001b[0m\u001b[1;33m.\u001b[0m\u001b[0mcursor\u001b[0m\u001b[1;33m(\u001b[0m\u001b[1;33m)\u001b[0m\u001b[1;33m\u001b[0m\u001b[1;33m\u001b[0m\u001b[0m\n\u001b[0;32m     11\u001b[0m \u001b[1;33m\u001b[0m\u001b[0m\n\u001b[1;32m---> 12\u001b[1;33m     \u001b[0mcur\u001b[0m\u001b[1;33m.\u001b[0m\u001b[0mexecute\u001b[0m\u001b[1;33m(\u001b[0m\u001b[1;34m\"INSERT INTO search_phone(name, price, location, image, link, time, date, condition_id, region_id, vendor_id)VALUES( 'Iphone 12', 2577, 'Obuasi', 'image', 'link', '14:30:00','2021-10-22' 1, 1, 1)\"\u001b[0m\u001b[1;33m)\u001b[0m\u001b[1;33m\u001b[0m\u001b[1;33m\u001b[0m\u001b[0m\n\u001b[0m",
      "\u001b[1;31mSyntaxError\u001b[0m: syntax error at or near \"1\"\nLINE 1: ... 'Obuasi', 'image', 'link', '14:30:00','2021-10-22' 1, 1, 1)\n                                                               ^\n"
     ]
    }
   ],
   "source": [
    "import psycopg2\n",
    "connection = psycopg2.connect(user=\"postgres\",\n",
    "                              password=\"STpass@9\",\n",
    "                              host=\"localhost\",\n",
    "                              port=\"5432\",\n",
    "                              database=\"phone\")\n",
    "\n",
    "with connection:\n",
    "\n",
    "    cur = connection.cursor()\n",
    "\n",
    "    cur.execute(\"INSERT INTO search_phone(name, price, location, image, link, time, date, condition_id, region_id, vendor_id)VALUES( 'Iphone 12', 2577, 'Obuasi', 'image', 'link', '14:30:00','2021-10-22', 1, 1, 1)\")"
   ]
  },
  {
   "cell_type": "code",
   "execution_count": 33,
   "id": "731f92fd",
   "metadata": {},
   "outputs": [],
   "source": [
    "name = 'Daniel'\n",
    "price = 100000\n",
    "location = 'Obuasi'\n",
    "region_id = 1\n",
    "image = 'image'\n",
    "link = 'link'\n",
    "time = '14:00:05'\n",
    "date = '2021-07-07'\n",
    "condition_id = 1\n",
    "vendor_id = 1"
   ]
  },
  {
   "cell_type": "code",
   "execution_count": 25,
   "id": "fdc83bf9",
   "metadata": {},
   "outputs": [],
   "source": [
    "def insert_data(name, price, location, image, link, time, date, condition_id, region_id, vendor_id, cur):\n",
    "    quer = \"INSERT INTO search_phone(id, name, price, location, image, link, time, date, condition_id, region_id, vendor_id)\"\n",
    "    val = \"VALUES({}, {}, {}, {}, {}, '{}', '{}', {}, {}, {})\".format(name, price, location, image, link, time, date, condition_id, region_id, vendor_id)\n",
    "    cur.execute(quer)\n",
    "    return (quer + val)"
   ]
  },
  {
   "cell_type": "code",
   "execution_count": 26,
   "id": "4487d021",
   "metadata": {},
   "outputs": [
    {
     "data": {
      "text/plain": [
       "\"INSERT INTO search_phone(id, name, price, location, image, link, time, date, condition_id, region_id, vendor_id)VALUES(Daniel, 100000, Obuasi, image, link, '14:00:05', '2021-07-07', 1, 1, 1)\""
      ]
     },
     "execution_count": 26,
     "metadata": {},
     "output_type": "execute_result"
    }
   ],
   "source": [
    "insert_data (name, price, location, image, link, time, date, condition_id, region_id, vendor_id)"
   ]
  },
  {
   "cell_type": "code",
   "execution_count": null,
   "id": "cc169a84",
   "metadata": {},
   "outputs": [],
   "source": [
    "insert_data(name, price, location, image, link, time, date, condition_id, region_id, vendor_id)"
   ]
  },
  {
   "cell_type": "code",
   "execution_count": 15,
   "id": "1c828993",
   "metadata": {},
   "outputs": [
    {
     "name": "stdout",
     "output_type": "stream",
     "text": [
      "SELECT id FROM search_region where region=1\n"
     ]
    }
   ],
   "source": [
    "query = \"SELECT id FROM search_region where region={}\".format(region)\n",
    "print(query)"
   ]
  },
  {
   "cell_type": "code",
   "execution_count": null,
   "id": "e623d590",
   "metadata": {},
   "outputs": [],
   "source": [
    "val = \"VALUES(\" +name+, 2577, 'Obuasi', 'image', 'link', '14:30:00', \"+ str(condition)+ ', '+ str(region)+', ' + str(vendor) + ')'\n",
    "    "
   ]
  },
  {
   "cell_type": "code",
   "execution_count": 73,
   "id": "308b50dd",
   "metadata": {},
   "outputs": [],
   "source": [
    "# This function creates the connection to the database\n",
    "def create_connection():\n",
    "    import psycopg2\n",
    "    connection = psycopg2.connect(user=\"postgres\",\n",
    "                              password=\"STpass@9\",\n",
    "                              host=\"localhost\",\n",
    "                              port=\"5432\",\n",
    "                              database=\"phone\")\n",
    "    cur =connection.cursor()\n",
    "    \n",
    "    return connection, cur\n",
    "    \n",
    "# ths functions gets the id for region    \n",
    "def get_region_id(region, cur):\n",
    "    query = \"SELECT id FROM search_region where region='{}'\".format(region)\n",
    "    cur.execute(query)\n",
    "    key = cur.fetchone()[0]\n",
    "    return key\n",
    "    \n",
    "# ths functions gets the id for condition  \n",
    "def get_condition_id(condition, cur):\n",
    "    query = \"SELECT id FROM search_condition where condition='{}'\".format(condition) \n",
    "    cur.execute(query)\n",
    "    key = cur.fetchone()[0]\n",
    "    return key\n",
    "\n",
    "# ths functions gets the id for site  \n",
    "def get_vendor_id(vendor, cur):\n",
    "    query = \"SELECT id FROM search_vendor where vendor='{}'\".format(vendor)\n",
    "    cur.execute(query)\n",
    "    key = cur.fetchone()[0]\n",
    "    return key\n",
    "\n",
    "# this function inserts the data into the database\n",
    "def insert_data(name, price, location,image, link, time, date, condition_id, region_id, vendor_id, cur):\n",
    "    quer = \"INSERT INTO search_phone(name, price, location, image, link, time, date, condition_id, region_id, vendor_id)\"\n",
    "    val = \"VALUES('{}', {}, '{}', '{}', '{}', '{}', '{}', {}, {}, {})\".format(name, price, location, image, link, time, date, condition_id, region_id, vendor_id)\n",
    "    exception = \"WHERE NOT EXISTS(SELECT link FROM search_phone WHERE link = '{}')\".format(link)\n",
    "    query = quer+val+exception\n",
    "    cur.execute(query)\n",
    "    print('Data Inserted')\n",
    "    return"
   ]
  },
  {
   "cell_type": "code",
   "execution_count": 74,
   "id": "a0ffbd60",
   "metadata": {},
   "outputs": [
    {
     "ename": "SyntaxError",
     "evalue": "syntax error at or near \"WHERE\"\nLINE 1: ...age', 'link', '14:00:05', '2021-07-07', 2, 3, 2), WHERE NOT ...\n                                                             ^\n",
     "output_type": "error",
     "traceback": [
      "\u001b[1;31m---------------------------------------------------------------------------\u001b[0m",
      "\u001b[1;31mSyntaxError\u001b[0m                               Traceback (most recent call last)",
      "\u001b[1;32m<ipython-input-74-ad9e9f86c1b7>\u001b[0m in \u001b[0;36m<module>\u001b[1;34m\u001b[0m\n\u001b[0;32m      7\u001b[0m     \u001b[0mcondition_id\u001b[0m \u001b[1;33m=\u001b[0m \u001b[0mget_condition_id\u001b[0m\u001b[1;33m(\u001b[0m\u001b[0mcondition\u001b[0m\u001b[1;33m,\u001b[0m \u001b[0mcur\u001b[0m\u001b[1;33m)\u001b[0m\u001b[1;33m\u001b[0m\u001b[1;33m\u001b[0m\u001b[0m\n\u001b[0;32m      8\u001b[0m     \u001b[0mvendor_id\u001b[0m \u001b[1;33m=\u001b[0m \u001b[0mget_vendor_id\u001b[0m\u001b[1;33m(\u001b[0m\u001b[0mvendor\u001b[0m\u001b[1;33m,\u001b[0m \u001b[0mcur\u001b[0m\u001b[1;33m)\u001b[0m\u001b[1;33m\u001b[0m\u001b[1;33m\u001b[0m\u001b[0m\n\u001b[1;32m----> 9\u001b[1;33m     \u001b[0minsert_data\u001b[0m\u001b[1;33m(\u001b[0m\u001b[0mname\u001b[0m\u001b[1;33m,\u001b[0m \u001b[0mprice\u001b[0m\u001b[1;33m,\u001b[0m \u001b[0mlocation\u001b[0m\u001b[1;33m,\u001b[0m \u001b[0mimage\u001b[0m\u001b[1;33m,\u001b[0m \u001b[0mlink\u001b[0m\u001b[1;33m,\u001b[0m \u001b[0mtime\u001b[0m\u001b[1;33m,\u001b[0m \u001b[0mdate\u001b[0m\u001b[1;33m,\u001b[0m \u001b[0mcondition_id\u001b[0m\u001b[1;33m,\u001b[0m \u001b[0mregion_id\u001b[0m\u001b[1;33m,\u001b[0m \u001b[0mvendor_id\u001b[0m\u001b[1;33m,\u001b[0m \u001b[0mcur\u001b[0m\u001b[1;33m)\u001b[0m\u001b[1;33m\u001b[0m\u001b[1;33m\u001b[0m\u001b[0m\n\u001b[0m\u001b[0;32m     10\u001b[0m \u001b[1;33m\u001b[0m\u001b[0m\n\u001b[0;32m     11\u001b[0m \u001b[1;33m\u001b[0m\u001b[0m\n",
      "\u001b[1;32m<ipython-input-73-bc2213a35226>\u001b[0m in \u001b[0;36minsert_data\u001b[1;34m(name, price, location, image, link, time, date, condition_id, region_id, vendor_id, cur)\u001b[0m\n\u001b[0;32m     38\u001b[0m     \u001b[0mexception\u001b[0m \u001b[1;33m=\u001b[0m \u001b[1;34m\", WHERE NOT EXISTS(SELECT link FROM search_phone WHERE link = '{}')\"\u001b[0m\u001b[1;33m.\u001b[0m\u001b[0mformat\u001b[0m\u001b[1;33m(\u001b[0m\u001b[0mlink\u001b[0m\u001b[1;33m)\u001b[0m\u001b[1;33m\u001b[0m\u001b[1;33m\u001b[0m\u001b[0m\n\u001b[0;32m     39\u001b[0m     \u001b[0mquery\u001b[0m \u001b[1;33m=\u001b[0m \u001b[0mquer\u001b[0m\u001b[1;33m+\u001b[0m\u001b[0mval\u001b[0m\u001b[1;33m+\u001b[0m\u001b[0mexception\u001b[0m\u001b[1;33m\u001b[0m\u001b[1;33m\u001b[0m\u001b[0m\n\u001b[1;32m---> 40\u001b[1;33m     \u001b[0mcur\u001b[0m\u001b[1;33m.\u001b[0m\u001b[0mexecute\u001b[0m\u001b[1;33m(\u001b[0m\u001b[0mquery\u001b[0m\u001b[1;33m)\u001b[0m\u001b[1;33m\u001b[0m\u001b[1;33m\u001b[0m\u001b[0m\n\u001b[0m\u001b[0;32m     41\u001b[0m     \u001b[0mprint\u001b[0m\u001b[1;33m(\u001b[0m\u001b[1;34m'Data Inserted'\u001b[0m\u001b[1;33m)\u001b[0m\u001b[1;33m\u001b[0m\u001b[1;33m\u001b[0m\u001b[0m\n\u001b[0;32m     42\u001b[0m     \u001b[1;32mreturn\u001b[0m\u001b[1;33m\u001b[0m\u001b[1;33m\u001b[0m\u001b[0m\n",
      "\u001b[1;31mSyntaxError\u001b[0m: syntax error at or near \"WHERE\"\nLINE 1: ...age', 'link', '14:00:05', '2021-07-07', 2, 3, 2), WHERE NOT ...\n                                                             ^\n"
     ]
    }
   ],
   "source": [
    "region = 'Bono'\n",
    "condition = 'Used'\n",
    "vendor = 'Jiji'\n",
    "connection, cur = create_connection()\n",
    "with connection:\n",
    "    region_id = get_region_id(region, cur)\n",
    "    condition_id = get_condition_id(condition, cur)\n",
    "    vendor_id = get_vendor_id(vendor, cur)\n",
    "    insert_data(name, price, location, image, link, time, date, condition_id, region_id, vendor_id, cur)\n",
    "    \n",
    "    \n",
    "print(region)\n",
    "print(condition)\n",
    "print(vendor)"
   ]
  },
  {
   "cell_type": "code",
   "execution_count": 102,
   "id": "5249029c",
   "metadata": {},
   "outputs": [
    {
     "name": "stdout",
     "output_type": "stream",
     "text": [
      "1\n",
      "1\n",
      "1\n"
     ]
    }
   ],
   "source": [
    "import psycopg2\n",
    "connection = psycopg2.connect(user=\"postgres\",\n",
    "                              password=\"STpass@9\",\n",
    "                              host=\"localhost\",\n",
    "                              port=\"5432\",\n",
    "                              database=\"phone_data\")\n",
    "\n",
    "with connection:\n",
    "\n",
    "    cur = connection.cursor()\n",
    "    \n",
    "    condition = \"'New'\"\n",
    "    query = \"SELECT id FROM search_condition where condition=\"+condition \n",
    "    cur.execute(query)\n",
    "    key = cur.fetchone()[0]\n",
    "    print(key)\n",
    "    \n",
    "    region = \"'Greater Accra'\"\n",
    "    query = \"SELECT id FROM search_region where region=\"+region \n",
    "    cur.execute(query)\n",
    "    key1 = cur.fetchone()[0]\n",
    "    print(key1)\n",
    "    \n",
    "    vendor = \"'Tonaton'\"\n",
    "    query = \"SELECT id FROM search_vendor where vendor=\"+vendor \n",
    "    cur.execute(query)\n",
    "    key2 = cur.fetchone()[0]\n",
    "    print(key2)\n",
    "    \n",
    "    quer = \"INSERT INTO search_phone(name, price, location, image, link, time, condition_id, region_id, vendor_id)\"\n",
    "    val = \"VALUES( 'Iphone 12', 2577, 'Obuasi', 'image', 'link', '14:30:00', \"+ str(key)+ ', '+ str(key1)+', ' + str(key2) + ')'\n",
    "    cur.execute(quer+ val)"
   ]
  },
  {
   "cell_type": "code",
   "execution_count": 71,
   "id": "ddfc59b7",
   "metadata": {},
   "outputs": [
    {
     "data": {
      "text/plain": [
       "1"
      ]
     },
     "execution_count": 71,
     "metadata": {},
     "output_type": "execute_result"
    }
   ],
   "source": [
    "WHERE NOT EXISTS (\n",
    "    SELECT customer_name FROM customer_details WHERE customer_name = 'Veronica'\n",
    ")"
   ]
  },
  {
   "cell_type": "code",
   "execution_count": null,
   "id": "50228ffc",
   "metadata": {},
   "outputs": [],
   "source": [
    "SELECT link from search_phone WHERE link = 'link'"
   ]
  },
  {
   "cell_type": "code",
   "execution_count": 52,
   "id": "e0270f95",
   "metadata": {},
   "outputs": [],
   "source": [
    "link = 'link'"
   ]
  },
  {
   "cell_type": "code",
   "execution_count": 60,
   "id": "fbffdefd",
   "metadata": {},
   "outputs": [],
   "source": [
    "exception = \"WHERE NOT EXISTS (SELECT link FROM search_phone WHERE link = '{}')\".format(link)"
   ]
  },
  {
   "cell_type": "code",
   "execution_count": 61,
   "id": "3cd73a7b",
   "metadata": {},
   "outputs": [
    {
     "name": "stdout",
     "output_type": "stream",
     "text": [
      "WHERE NOT EXISTS (SELECT link FROM search_phone WHERE link = 'link')\n"
     ]
    }
   ],
   "source": [
    "print(exception)"
   ]
  },
  {
   "cell_type": "code",
   "execution_count": 62,
   "id": "d3dd522b",
   "metadata": {},
   "outputs": [],
   "source": [
    "quer = \"INSERT INTO search_phone(name, price, location, image, link, time, date, condition_id, region_id, vendor_id)\"\n",
    "val = \"VALUES('{}', {}, '{}', '{}', '{}', '{}', '{}', {}, {}, {})\".format(name, price, location, image, link, time, date, condition_id, region_id, vendor_id)\n",
    "query = quer+val+exception"
   ]
  },
  {
   "cell_type": "code",
   "execution_count": 72,
   "id": "e6398ca7",
   "metadata": {},
   "outputs": [
    {
     "name": "stdout",
     "output_type": "stream",
     "text": [
      "INSERT INTO search_phone(name, price, location, image, link, time, date, condition_id, region_id, vendor_id)VALUES('Daniel', 100000, 'Obuasi', 'image', 'link', '14:00:05', '2021-07-07', 2, 3, 2)WHERE NOT EXISTS (SELECT link FROM search_phone WHERE link = 'link')\n"
     ]
    }
   ],
   "source": [
    "print(query)"
   ]
  },
  {
   "cell_type": "code",
   "execution_count": null,
   "id": "3c337247",
   "metadata": {},
   "outputs": [],
   "source": []
  }
 ],
 "metadata": {
  "kernelspec": {
   "display_name": "Python 3",
   "language": "python",
   "name": "python3"
  },
  "language_info": {
   "codemirror_mode": {
    "name": "ipython",
    "version": 3
   },
   "file_extension": ".py",
   "mimetype": "text/x-python",
   "name": "python",
   "nbconvert_exporter": "python",
   "pygments_lexer": "ipython3",
   "version": "3.8.8"
  }
 },
 "nbformat": 4,
 "nbformat_minor": 5
}
